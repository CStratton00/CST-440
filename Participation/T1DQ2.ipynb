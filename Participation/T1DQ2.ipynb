{
 "cells": [
  {
   "cell_type": "code",
   "execution_count": 6,
   "metadata": {},
   "outputs": [],
   "source": [
    "import networkx as nx\n",
    "import pandas as pd\n",
    "import matplotlib.pyplot as plt"
   ]
  },
  {
   "cell_type": "code",
   "execution_count": 7,
   "metadata": {},
   "outputs": [
    {
     "data": {
      "text/plain": "          FromNodeId       ToNodeId\ncount  508837.000000  508837.000000\nmean    11943.136688   10540.335960\nstd     16152.694509   15585.240849\nmin         0.000000       0.000000\n25%      1669.000000    1164.000000\n50%      5232.000000    3879.000000\n75%     14943.000000   12538.000000\nmax     75887.000000   75881.000000",
      "text/html": "<div>\n<style scoped>\n    .dataframe tbody tr th:only-of-type {\n        vertical-align: middle;\n    }\n\n    .dataframe tbody tr th {\n        vertical-align: top;\n    }\n\n    .dataframe thead th {\n        text-align: right;\n    }\n</style>\n<table border=\"1\" class=\"dataframe\">\n  <thead>\n    <tr style=\"text-align: right;\">\n      <th></th>\n      <th>FromNodeId</th>\n      <th>ToNodeId</th>\n    </tr>\n  </thead>\n  <tbody>\n    <tr>\n      <th>count</th>\n      <td>508837.000000</td>\n      <td>508837.000000</td>\n    </tr>\n    <tr>\n      <th>mean</th>\n      <td>11943.136688</td>\n      <td>10540.335960</td>\n    </tr>\n    <tr>\n      <th>std</th>\n      <td>16152.694509</td>\n      <td>15585.240849</td>\n    </tr>\n    <tr>\n      <th>min</th>\n      <td>0.000000</td>\n      <td>0.000000</td>\n    </tr>\n    <tr>\n      <th>25%</th>\n      <td>1669.000000</td>\n      <td>1164.000000</td>\n    </tr>\n    <tr>\n      <th>50%</th>\n      <td>5232.000000</td>\n      <td>3879.000000</td>\n    </tr>\n    <tr>\n      <th>75%</th>\n      <td>14943.000000</td>\n      <td>12538.000000</td>\n    </tr>\n    <tr>\n      <th>max</th>\n      <td>75887.000000</td>\n      <td>75881.000000</td>\n    </tr>\n  </tbody>\n</table>\n</div>"
     },
     "execution_count": 7,
     "metadata": {},
     "output_type": "execute_result"
    }
   ],
   "source": [
    "df = pd.read_csv('soc-Epinions1.csv', sep='\\t')\n",
    "df.describe()"
   ]
  },
  {
   "cell_type": "code",
   "execution_count": 8,
   "metadata": {},
   "outputs": [],
   "source": [
    "G = nx.Graph()\n",
    "G.add_nodes_from(df['FromNodeId'], bipartite=0)\n",
    "G.add_nodes_from(df['ToNodeId'], bipartite=1)\n",
    "\n",
    "for i in range(len(df)):\n",
    "    G.add_edge(df['FromNodeId'][i], df['ToNodeId'][i])"
   ]
  },
  {
   "cell_type": "code",
   "execution_count": null,
   "metadata": {
    "pycharm": {
     "is_executing": true
    }
   },
   "outputs": [],
   "source": [
    "plt.figure(1, figsize=(100, 100))\n",
    "nx.draw(G, with_labels=True)"
   ]
  },
  {
   "cell_type": "code",
   "execution_count": null,
   "outputs": [],
   "source": [
    "pos = nx.circular_layout(G)\n",
    "plt.figure(2, figsize=(100, 100))\n",
    "nx.draw(G, pos, with_labels=True)"
   ],
   "metadata": {
    "collapsed": false,
    "pycharm": {
     "name": "#%%\n",
     "is_executing": true
    }
   }
  }
 ],
 "metadata": {
  "interpreter": {
   "hash": "082e9a3bcad0a290d0001e938aa60b99250c6c2ef33a923c00b70f9826caf4b7"
  },
  "kernelspec": {
   "display_name": "",
   "language": "python",
   "name": "python3"
  },
  "language_info": {
   "codemirror_mode": {
    "name": "ipython",
    "version": 3
   },
   "file_extension": ".py",
   "mimetype": "text/x-python",
   "name": "python",
   "nbconvert_exporter": "python",
   "pygments_lexer": "ipython3",
   "version": "3.8.7"
  },
  "orig_nbformat": 4
 },
 "nbformat": 4,
 "nbformat_minor": 2
}