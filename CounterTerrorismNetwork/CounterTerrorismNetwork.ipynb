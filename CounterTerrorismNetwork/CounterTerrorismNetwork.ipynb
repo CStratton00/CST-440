{
 "cells": [
  {
   "cell_type": "markdown",
   "source": [
    "# Strategic Alliances Project\n",
    "Dharma Teja Bhattu and Collin Stratton\n",
    "\n",
    "CST-440\n",
    "\n",
    "Dr. Isac Artzi\n",
    "\n",
    "3/20/2022"
   ],
   "metadata": {
    "collapsed": false
   }
  },
  {
   "cell_type": "markdown",
   "source": [
    "# Introduction\n"
   ],
   "metadata": {
    "collapsed": false
   }
  },
  {
   "cell_type": "code",
   "execution_count": null,
   "metadata": {
    "collapsed": true
   },
   "outputs": [],
   "source": []
  }
 ],
 "metadata": {
  "kernelspec": {
   "display_name": "Python 3",
   "language": "python",
   "name": "python3"
  },
  "language_info": {
   "codemirror_mode": {
    "name": "ipython",
    "version": 2
   },
   "file_extension": ".py",
   "mimetype": "text/x-python",
   "name": "python",
   "nbconvert_exporter": "python",
   "pygments_lexer": "ipython2",
   "version": "2.7.6"
  }
 },
 "nbformat": 4,
 "nbformat_minor": 0
}